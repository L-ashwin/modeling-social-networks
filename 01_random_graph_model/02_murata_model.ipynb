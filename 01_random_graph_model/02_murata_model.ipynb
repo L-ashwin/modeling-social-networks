{
 "cells": [
  {
   "cell_type": "code",
   "execution_count": null,
   "metadata": {},
   "outputs": [],
   "source": [
    "import numpy as np\n",
    "import networkx as nx\n",
    "import matplotlib.pyplot as plt\n",
    "import random"
   ]
  },
  {
   "cell_type": "markdown",
   "metadata": {},
   "source": [
    "#### Model"
   ]
  },
  {
   "cell_type": "code",
   "execution_count": null,
   "metadata": {},
   "outputs": [],
   "source": [
    "class Model:\n",
    "    \n",
    "    def __init__(self):\n",
    "        pass"
   ]
  },
  {
   "cell_type": "markdown",
   "metadata": {},
   "source": [
    "#### Network"
   ]
  },
  {
   "cell_type": "code",
   "execution_count": null,
   "metadata": {},
   "outputs": [],
   "source": [
    "class Network:\n",
    "    \n",
    "    def __init__(self, n):\n",
    "        self.nodes = [Individual(i) for i in range(n)]\n",
    "        self.edges = []\n",
    "    \n",
    "    def create_erdos_graph(self, n, p):\n",
    "        edge_count = 0\n",
    "        for i in range(n):\n",
    "            for j in range(i+1, n):\n",
    "                if(random.random() < p):\n",
    "                    temp = Connection(edge_count, [self.nodes[i], self.nodes[j]])\n",
    "                    self.edges.append(temp)        \n",
    "    \n",
    "    def update():\n",
    "        pass\n",
    "    \n",
    "    def calculate_opinion_polarization():\n",
    "        pass\n",
    "\n",
    "    def calculate_links_polarization():\n",
    "        pass\n",
    "\n",
    "    def visualize():\n",
    "        pass"
   ]
  },
  {
   "cell_type": "markdown",
   "metadata": {},
   "source": [
    "#### Individual"
   ]
  },
  {
   "cell_type": "code",
   "execution_count": null,
   "metadata": {},
   "outputs": [],
   "source": [
    "class Individual:\n",
    "    \n",
    "    def __init__(self, id):\n",
    "        self.id = id\n",
    "        self.opinion = random.random()\n",
    "        self.neighbors = []\n",
    "    \n",
    "    def update(self):\n",
    "        pass"
   ]
  },
  {
   "cell_type": "markdown",
   "metadata": {},
   "source": [
    "#### Connection"
   ]
  },
  {
   "cell_type": "code",
   "execution_count": null,
   "metadata": {},
   "outputs": [],
   "source": [
    "class Connection:\n",
    "    \n",
    "    def __init__(self, id, nodes):\n",
    "        self.id = id\n",
    "        self.nodes = nodes\n",
    "        self.nodes[0].neighbors.append(self.nodes[1])\n",
    "        self.nodes[1].neighbors.append(self.nodes[0])\n",
    "        self.strength = random.random()\n",
    "    \n",
    "    def update(self):\n",
    "        pass"
   ]
  },
  {
   "cell_type": "markdown",
   "metadata": {},
   "source": [
    "#### Main"
   ]
  },
  {
   "cell_type": "code",
   "execution_count": null,
   "metadata": {},
   "outputs": [],
   "source": [
    "n = 20\n",
    "\n",
    "network = Network(n)"
   ]
  },
  {
   "cell_type": "code",
   "execution_count": null,
   "metadata": {},
   "outputs": [],
   "source": [
    "p = 0.2\n",
    "\n",
    "network.create_erdos_graph(n, p)"
   ]
  },
  {
   "cell_type": "markdown",
   "metadata": {},
   "source": [
    "#### Debugging"
   ]
  },
  {
   "cell_type": "code",
   "execution_count": null,
   "metadata": {},
   "outputs": [],
   "source": [
    "network.edges[0].__dict__"
   ]
  }
 ],
 "metadata": {
  "kernelspec": {
   "display_name": "Python 3",
   "language": "python",
   "name": "python3"
  },
  "language_info": {
   "codemirror_mode": {
    "name": "ipython",
    "version": 3
   },
   "file_extension": ".py",
   "mimetype": "text/x-python",
   "name": "python",
   "nbconvert_exporter": "python",
   "pygments_lexer": "ipython3",
   "version": "3.7.9"
  }
 },
 "nbformat": 4,
 "nbformat_minor": 4
}
