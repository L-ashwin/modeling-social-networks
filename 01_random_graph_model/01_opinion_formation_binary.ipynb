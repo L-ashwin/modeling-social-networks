{
 "cells": [
  {
   "cell_type": "code",
   "execution_count": null,
   "metadata": {},
   "outputs": [],
   "source": [
    "import numpy as np\n",
    "import networkx as nx\n",
    "import matplotlib.pyplot as plt"
   ]
  },
  {
   "cell_type": "code",
   "execution_count": null,
   "metadata": {},
   "outputs": [],
   "source": [
    "def draw(G, attr):\n",
    "    pos = nx.spring_layout(G, seed=2)\n",
    "    \n",
    "    nodes = G.nodes()\n",
    "    atter = [nx.get_node_attributes(G, attr)[nod] for nod in nodes]\n",
    "    color = ['brown' if ele == 1 else 'green' if ele == -1 else 'blue' for ele in atter]\n",
    "    \n",
    "    plt.figure(figsize=(10,10))\n",
    "    ec = nx.draw_networkx_edges(G, pos, alpha=0.2)\n",
    "    nc = nx.draw_networkx_nodes(G, pos, nodelist=nodes, node_color=color)\n",
    "    \n",
    "    plt.axis('off')\n",
    "    plt.show()"
   ]
  },
  {
   "cell_type": "code",
   "execution_count": null,
   "metadata": {},
   "outputs": [],
   "source": [
    "def drawOnAxis(G, attr, axis):\n",
    "    pos = nx.spring_layout(G, seed=2)\n",
    "    \n",
    "    nodes = G.nodes()\n",
    "    atter = [nx.get_node_attributes(G, attr)[nod] for nod in nodes]\n",
    "    color = ['brown' if ele == 1 else 'green' if ele == -1 else 'blue' for ele in atter]\n",
    "    \n",
    "    ec = nx.draw_networkx_edges(G, pos, alpha=0.2, ax=axis)\n",
    "    nc = nx.draw_networkx_nodes(G, pos, nodelist=nodes, node_color=color, ax=axis)"
   ]
  },
  {
   "cell_type": "code",
   "execution_count": null,
   "metadata": {},
   "outputs": [],
   "source": [
    "def step(G, attr):\n",
    "    nodes  = G.nodes()\n",
    "    tplus1 = {}\n",
    "    for each in nodes:\n",
    "        var = G.nodes[each]['bias']\n",
    "        for neigh in nx.neighbors(G, each):\n",
    "            var += G.nodes[neigh]['bias']\n",
    "        tplus1[each] = np.sign(var)\n",
    "\n",
    "    nx.set_node_attributes(G, tplus1, name='bias')"
   ]
  },
  {
   "cell_type": "code",
   "execution_count": null,
   "metadata": {},
   "outputs": [],
   "source": [
    "n, p = 100, 0.05\n",
    "G = nx.erdos_renyi_graph(n, p, seed=1)"
   ]
  },
  {
   "cell_type": "code",
   "execution_count": null,
   "metadata": {},
   "outputs": [],
   "source": [
    "nodes = G.nodes()\n",
    "bias  = np.random.choice((1,-1), size=len(nodes))\n",
    "\n",
    "nx.set_node_attributes(G, {key:value for key, value in zip(nodes, bias)}, name='bias')"
   ]
  },
  {
   "cell_type": "code",
   "execution_count": null,
   "metadata": {},
   "outputs": [],
   "source": [
    "draw(G, 'bias')\n",
    "step(G, 'bias')\n",
    "draw(G, 'bias')\n",
    "step(G, 'bias')\n",
    "draw(G, 'bias')"
   ]
  },
  {
   "cell_type": "code",
   "execution_count": null,
   "metadata": {},
   "outputs": [],
   "source": [
    "change = 0\n",
    "for each in G.nodes():\n",
    "    var = G.nodes()[each]['bias']\n",
    "    for neigh in nx.neighbors(G, each):\n",
    "        var += G.nodes()[neigh]['bias']\n",
    "    change += np.sign(var) != G.nodes()[each]['bias']\n",
    "print(\"Required Changes\", change)"
   ]
  },
  {
   "cell_type": "code",
   "execution_count": null,
   "metadata": {},
   "outputs": [],
   "source": []
  }
 ],
 "metadata": {
  "kernelspec": {
   "display_name": "Python 3",
   "language": "python",
   "name": "python3"
  },
  "language_info": {
   "codemirror_mode": {
    "name": "ipython",
    "version": 3
   },
   "file_extension": ".py",
   "mimetype": "text/x-python",
   "name": "python",
   "nbconvert_exporter": "python",
   "pygments_lexer": "ipython3",
   "version": "3.7.9"
  }
 },
 "nbformat": 4,
 "nbformat_minor": 4
}
