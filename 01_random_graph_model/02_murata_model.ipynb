{
 "cells": [
  {
   "cell_type": "code",
   "execution_count": null,
   "metadata": {},
   "outputs": [],
   "source": [
    "import random\n",
    "import numpy as np\n",
    "import networkx as nx\n",
    "import matplotlib.pyplot as plt\n",
    "import seaborn as sns\n",
    "from scipy import stats"
   ]
  },
  {
   "cell_type": "markdown",
   "metadata": {},
   "source": [
    "#### Model"
   ]
  },
  {
   "cell_type": "code",
   "execution_count": null,
   "metadata": {},
   "outputs": [],
   "source": [
    "class Model:\n",
    "    \n",
    "    def __init__(self):\n",
    "        pass"
   ]
  },
  {
   "cell_type": "markdown",
   "metadata": {},
   "source": [
    "#### Network"
   ]
  },
  {
   "cell_type": "code",
   "execution_count": 1,
   "metadata": {},
   "outputs": [],
   "source": [
    "class Network:\n",
    "    \n",
    "    def __init__(self, n):\n",
    "        self.nodes = [Individual(i) for i in range(n)]\n",
    "        self.edges = {}\n",
    "    \n",
    "    def create_erdos_graph(self, n, p):\n",
    "        \"\"\"\n",
    "        n : Number of nodes\n",
    "        p : Probability of there being a edge between any two nodes\n",
    "        Adds links/edges as per erdos renyi graph\n",
    "        \"\"\"\n",
    "        edge_count = 0\n",
    "        for i in range(n):\n",
    "            for j in range(i+1, n):\n",
    "                if(random.random() < p):\n",
    "                    temp = Connection(edge_count, [self.nodes[i], self.nodes[j]])\n",
    "                    self.edges[(self.nodes[i].id, self.nodes[j].id)] = temp\n",
    "    \n",
    "    def create_from_networkx(self, G):\n",
    "        \"\"\"\n",
    "        G : networkx Graph Object\n",
    "        Adds links/edges using networkx Graph Object\n",
    "        \"\"\"\n",
    "        for count, (i, j) in enumerate(G.edges):\n",
    "            temp = Connection(count, [self.nodes[i], self.nodes[j]])\n",
    "            self.edges[(self.nodes[i].id, self.nodes[j].id)] = temp\n",
    "\n",
    "    def get_edge(self, u, v):\n",
    "        \"\"\"\n",
    "        u, v : 'Individual' object i.e. nodes\n",
    "        returns Connection object if edge is present between given two nodes.\n",
    "        \"\"\"\n",
    "        connection = self.edges.get((u.id,v.id), self.edges.get((v.id,u.id)))\n",
    "        if connection is not None:\n",
    "            return connection\n",
    "        else:\n",
    "            raise Exception('Edge Not Present')\n",
    "     \n",
    "    def propagate(self, sourse, info):\n",
    "        \"\"\"\n",
    "        sourse : node of the network (Instance of class Individual)\n",
    "        info   : information opinion score\n",
    "        \n",
    "        Information is passed through the network starting with 'sourse' node,\n",
    "        as per 'Prasetya and Murata' model.\n",
    "        \"\"\"\n",
    "\n",
    "        t = 0\n",
    "        A   = {t: set((sourse,))} # set of active nodes(capable of passing the information).\n",
    "        Inf = A[t].copy() #set of Infected nodes.\n",
    "\n",
    "        while A[t] != set():\n",
    "            A[t+1] = set()\n",
    "\n",
    "            for active in A[t]:\n",
    "                neighbors = set(active.neighbors)\n",
    "                \n",
    "                # all the neighbors which are not already Infected are potential targets\n",
    "                for unInf in neighbors.difference(Inf):\n",
    "                    connection = self.get_edge(active, unInf)\n",
    "\n",
    "                    if random.random() < self.__P_uv__(active, unInf, info):\n",
    "                        #print('Info-passed')\n",
    "                        # Neighbor become infected and active\n",
    "                        Inf.add(unInf)\n",
    "                        A[t+1].add(unInf)\n",
    "\n",
    "                        # Opinion shifts and connection strengthens\n",
    "                        unInf.update(eta, info)\n",
    "                        connection.update(eta)\n",
    "                    else:\n",
    "                        #print(\"Info-not-Pass\")\n",
    "                        connection.update(-eta)\n",
    "            t += 1\n",
    "\n",
    "    def __P_uv__(self, u, v, info):\n",
    "        \"\"\"\n",
    "        u, v : 'Individual' object i.e. nodes\n",
    "        info :  information opinion score\n",
    "\n",
    "        returns probability of propagation\n",
    "        \"\"\"\n",
    "        q = v.opinion\n",
    "        c_uv = network.get_edge(u, v).strength\n",
    "        if c_uv <= 0:\n",
    "            return 0\n",
    "        else:\n",
    "            p_uv = c_uv * c_uv + (1 - c_uv) * (1 - self.__logistic__(abs(info-q)/2))\n",
    "            return p_uv        \n",
    "\n",
    "\n",
    "    def __logistic__(self, x):\n",
    "        B    = 10\n",
    "        mu   = 0.15\n",
    "        func = 1/(1 + np.exp(-B*(x-mu)))\n",
    "        return func\n",
    "\n",
    "    \n",
    "    def calculate_opinion_polarization(self):\n",
    "        \"\"\"\n",
    "        returns m‐value & q-absolute for the network\n",
    "        \"\"\"\n",
    "        op = [each.opinion for each in self.nodes]\n",
    "        hist, bins = np.histogram(op)\n",
    "        \n",
    "        m_val = 0\n",
    "        for i in range(1,len(hist)):\n",
    "            m_val += abs(hist[i] - hist[i-1])\n",
    "        m_val /= max(hist)\n",
    "        \n",
    "        q_abs = np.mean(np.abs(op))\n",
    "        \n",
    "        return m_val, q_abs\n",
    "\n",
    "    def calculate_links_polarization(self):\n",
    "        \"\"\"\n",
    "        returns Edge Homogeneity for the network\n",
    "        \"\"\"\n",
    "        num, den = 0, 0\n",
    "        for key, val in self.edges.items():\n",
    "            qu  = self.nodes[key[0]].opinion\n",
    "            qv  = self.nodes[key[1]].opinion\n",
    "            cuv = val.strength\n",
    "\n",
    "            num += qu*qv*cuv\n",
    "            den += cuv\n",
    "\n",
    "        edge_hom = num/den\n",
    "        return edge_hom\n",
    "\n",
    "    def visualize(self):\n",
    "        \"\"\"\n",
    "        Plots distributions for Individual-Opinion & Connection-Strength for the network\n",
    "        \"\"\"\n",
    "        fig, ax = plt.subplots(1,2, figsize=(12,5))\n",
    "\n",
    "        op = [each.opinion for each in self.nodes]\n",
    "        sns.distplot(op, ax=ax[0], kde=False).set_title('Individual-Opinion')\n",
    "        ax[0].set_xlim((-1,1))\n",
    "        plt.plot()\n",
    "\n",
    "        st = [each.strength for each in self.edges.values()]\n",
    "        sns.distplot(st, ax=ax[1], kde=False).set_title('Connection-Strength')\n",
    "        ax[1].set_xlim((0,1))\n",
    "        plt.plot()"
   ]
  },
  {
   "cell_type": "markdown",
   "metadata": {},
   "source": [
    "#### Individual"
   ]
  },
  {
   "cell_type": "code",
   "execution_count": null,
   "metadata": {},
   "outputs": [],
   "source": [
    "class Individual:\n",
    "    \n",
    "    def __init__(self, id):\n",
    "        self.id = id\n",
    "        self.opinion = (-1 + 2 *random.random())\n",
    "        self.neighbors = []\n",
    "    \n",
    "    def update(self, eta, info):\n",
    "        \"\"\"\n",
    "        eta  : update rate (parameter)\n",
    "        info : information opinion score\n",
    "        \n",
    "        update opinion based on infromation, prior opinion and eta.\n",
    "        \"\"\"\n",
    "        self.opinion = np.clip((self.opinion + eta * np.sign(info - self.opinion)), -1, 1)\n",
    "        pass"
   ]
  },
  {
   "cell_type": "markdown",
   "metadata": {},
   "source": [
    "#### Connection"
   ]
  },
  {
   "cell_type": "code",
   "execution_count": null,
   "metadata": {},
   "outputs": [],
   "source": [
    "class Connection:\n",
    "    \n",
    "    def __init__(self, id, nodes):\n",
    "        self.id = id\n",
    "        self.nodes = nodes\n",
    "        self.nodes[0].neighbors.append(self.nodes[1])\n",
    "        self.nodes[1].neighbors.append(self.nodes[0])\n",
    "        self.strength = random.random()/2\n",
    "    \n",
    "    def update(self, delta):\n",
    "        \"\"\"\n",
    "        Update Connection Strength with given delta.\n",
    "        \"\"\"\n",
    "        self.strength = np.clip((self.strength+delta), 0, 1)"
   ]
  },
  {
   "cell_type": "markdown",
   "metadata": {},
   "source": [
    "#### Random Graph"
   ]
  },
  {
   "cell_type": "code",
   "execution_count": null,
   "metadata": {},
   "outputs": [],
   "source": [
    "n = 250\n",
    "network = Network(n)"
   ]
  },
  {
   "cell_type": "code",
   "execution_count": null,
   "metadata": {},
   "outputs": [],
   "source": [
    "p = 0.075\n",
    "network.create_erdos_graph(n, p)"
   ]
  },
  {
   "cell_type": "code",
   "execution_count": null,
   "metadata": {},
   "outputs": [],
   "source": [
    "#G = nx.newman_watts_strogatz_graph(n ,15, 0.1)\n",
    "#network.create_from_networkx(G)"
   ]
  },
  {
   "cell_type": "code",
   "execution_count": null,
   "metadata": {},
   "outputs": [],
   "source": [
    "len(network.edges)"
   ]
  },
  {
   "cell_type": "markdown",
   "metadata": {},
   "source": [
    "#### model"
   ]
  },
  {
   "cell_type": "code",
   "execution_count": null,
   "metadata": {},
   "outputs": [],
   "source": [
    "T = 10000\n",
    "I = -1 + 2*stats.beta.rvs(0.5, 0.5, size=T)\n",
    "S = random.choices(network.nodes, k = T)\n",
    "\n",
    "eta = 0.01"
   ]
  },
  {
   "cell_type": "code",
   "execution_count": null,
   "metadata": {},
   "outputs": [],
   "source": [
    "for i in range(len(I)):\n",
    "    network.propagate(S[i], I[i])"
   ]
  },
  {
   "cell_type": "code",
   "execution_count": null,
   "metadata": {},
   "outputs": [],
   "source": [
    "network.visualize()"
   ]
  },
  {
   "cell_type": "code",
   "execution_count": null,
   "metadata": {},
   "outputs": [],
   "source": [
    "network.calculate_opinion_polarization()"
   ]
  },
  {
   "cell_type": "code",
   "execution_count": null,
   "metadata": {},
   "outputs": [],
   "source": [
    "network.calculate_links_polarization()"
   ]
  }
 ],
 "metadata": {
  "kernelspec": {
   "display_name": "Python 3",
   "language": "python",
   "name": "python3"
  },
  "language_info": {
   "codemirror_mode": {
    "name": "ipython",
    "version": 3
   },
   "file_extension": ".py",
   "mimetype": "text/x-python",
   "name": "python",
   "nbconvert_exporter": "python",
   "pygments_lexer": "ipython3",
   "version": "3.7.4"
  }
 },
 "nbformat": 4,
 "nbformat_minor": 4
}
