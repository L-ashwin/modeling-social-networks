{
 "cells": [
  {
   "cell_type": "code",
   "execution_count": null,
   "metadata": {},
   "outputs": [],
   "source": [
    "import numpy as np\n",
    "import networkx as nx\n",
    "import matplotlib.pyplot as plt\n",
    "import seaborn as sns"
   ]
  },
  {
   "cell_type": "code",
   "execution_count": null,
   "metadata": {},
   "outputs": [],
   "source": [
    "def draw(G, attr):\n",
    "    fig, axes = plt.subplots(1, 2, figsize=(12,6))\n",
    "    \n",
    "    nodes = G.nodes\n",
    "    color = [nx.get_node_attributes(G, attr)[nod] for nod in nodes]\n",
    "    nx.draw_networkx(G, node_color = color, cmap=plt.cm.Blues, ax=axes[0])\n",
    "    \n",
    "    sns.distplot(list(nx.get_node_attributes(G, attr).values()), ax=axes[1])\n",
    "    axes[1].set_xlim((-4,4))\n",
    "    plt.show()"
   ]
  },
  {
   "cell_type": "code",
   "execution_count": null,
   "metadata": {},
   "outputs": [],
   "source": [
    "G = nx.karate_club_graph() # nx.dense_gnm_random_graph(100, 100) # \n",
    "\n",
    "for n in G.nodes:\n",
    "    G.nodes[n]['bias'] = np.random.normal() # Normally distributed bias"
   ]
  },
  {
   "cell_type": "code",
   "execution_count": null,
   "metadata": {},
   "outputs": [],
   "source": [
    "sns.distplot(list(nx.get_node_attributes(G, 'bias').values()))\n",
    "plt.xlim((-4,4))\n",
    "plt.show()"
   ]
  },
  {
   "cell_type": "code",
   "execution_count": null,
   "metadata": {},
   "outputs": [],
   "source": [
    "# can be replaced by probability distribution\n",
    "br_threshold = 0.5  \n",
    "mk_threshold = 0.5"
   ]
  },
  {
   "cell_type": "code",
   "execution_count": null,
   "metadata": {},
   "outputs": [],
   "source": [
    "draw(G, 'bias')\n",
    "\n",
    "# re-arrangement of network according to individual bias\n",
    "for n in G.nodes:\n",
    "    NB = list(nx.neighbors(G, n))\n",
    "    NN = list(nx.non_neighbors(G, n))\n",
    "    \n",
    "    for nb in NB:\n",
    "        if abs(G.nodes[n]['bias'] - G.nodes[nb]['bias']) >= br_threshold:\n",
    "            if np.random.rand() < 0.1: # Probability of change in favorable condition\n",
    "                G.remove_edge(n, nb)\n",
    "    \n",
    "    for nn in NN: # can use ego with radius 2 instead of all non neighbours\n",
    "        if abs(G.nodes[n]['bias'] - G.nodes[nn]['bias']) <= mk_threshold:\n",
    "            if np.random.rand() < 0.1: # Probability of change in favorable condition\n",
    "                G.add_edge(n, nn)\n",
    "            \n",
    "\n",
    "# effect of network on individual bias\n",
    "for n in G.nodes:\n",
    "    ego = nx.ego_graph(G, n)\n",
    "    ego_bias = np.mean(list(nx.get_node_attributes(G, 'bias').values()))\n",
    "    \n",
    "    # can be replaced by some function of ego bias and node bais\n",
    "    G.nodes[n]['bias'] = (G.nodes[n]['bias'] + ego_bias)/2\n",
    "\n",
    "\n",
    "print('GCC:', nx.average_clustering(G))"
   ]
  },
  {
   "cell_type": "code",
   "execution_count": null,
   "metadata": {},
   "outputs": [],
   "source": []
  }
 ],
 "metadata": {
  "kernelspec": {
   "display_name": "Python 3",
   "language": "python",
   "name": "python3"
  },
  "language_info": {
   "codemirror_mode": {
    "name": "ipython",
    "version": 3
   },
   "file_extension": ".py",
   "mimetype": "text/x-python",
   "name": "python",
   "nbconvert_exporter": "python",
   "pygments_lexer": "ipython3",
   "version": "3.7.4"
  }
 },
 "nbformat": 4,
 "nbformat_minor": 4
}
