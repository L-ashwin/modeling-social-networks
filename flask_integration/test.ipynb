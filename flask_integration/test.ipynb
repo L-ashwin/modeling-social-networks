{
 "cells": [
  {
   "cell_type": "code",
   "execution_count": null,
   "metadata": {},
   "outputs": [],
   "source": [
    "import numpy as np\n",
    "import networkx as nx\n",
    "import json"
   ]
  },
  {
   "cell_type": "code",
   "execution_count": null,
   "metadata": {},
   "outputs": [],
   "source": [
    "n, p = 100, 0.05\n",
    "G = nx.erdos_renyi_graph(n, p, seed=1)"
   ]
  },
  {
   "cell_type": "code",
   "execution_count": null,
   "metadata": {},
   "outputs": [],
   "source": [
    "nodes = G.nodes()\n",
    "bias  = np.random.choice((1,-1), size=len(nodes))\n",
    "\n",
    "nx.set_node_attributes(G, {key:value for key, value in zip(nodes, bias)}, name='bias')"
   ]
  },
  {
   "cell_type": "code",
   "execution_count": null,
   "metadata": {},
   "outputs": [],
   "source": [
    "def return_lists():\n",
    "    nodes_list = list(G.nodes)\n",
    "    edges_list = list(G.edges)\n",
    "    bias_list = []\n",
    "\n",
    "    for i in range(len(G.nodes)):\n",
    "        bias_list.append( int(G.nodes[i]['bias']) )\n",
    "    \n",
    "    return nodes_list, edges_list, bias_list"
   ]
  },
  {
   "cell_type": "code",
   "execution_count": null,
   "metadata": {},
   "outputs": [],
   "source": [
    "def step(G, attr):\n",
    "    nodes  = G.nodes()\n",
    "    tplus1 = {}\n",
    "    for each in nodes:\n",
    "        var = G.nodes[each]['bias']\n",
    "        for neigh in nx.neighbors(G, each):\n",
    "            var += G.nodes[neigh]['bias']\n",
    "        tplus1[each] = np.sign(var)\n",
    "\n",
    "    nx.set_node_attributes(G, tplus1, name='bias')"
   ]
  },
  {
   "cell_type": "code",
   "execution_count": null,
   "metadata": {},
   "outputs": [],
   "source": [
    "data = {}\n",
    "for i in range(100):\n",
    "    step(G, 'bias')\n",
    "    nodes_list, edges_list, bias_list = return_lists()\n",
    "    \n",
    "    data[i] = {}\n",
    "    data[i]['nodes'] = nodes_list\n",
    "    data[i]['edges'] = edges_list\n",
    "    data[i]['bias'] = bias_list"
   ]
  },
  {
   "cell_type": "code",
   "execution_count": null,
   "metadata": {},
   "outputs": [],
   "source": [
    "def serialize(np_array):\n",
    "    return np_array.tolist()"
   ]
  },
  {
   "cell_type": "code",
   "execution_count": null,
   "metadata": {},
   "outputs": [],
   "source": [
    "json.dumps(data)"
   ]
  }
 ],
 "metadata": {
  "kernelspec": {
   "display_name": "Python 3",
   "language": "python",
   "name": "python3"
  },
  "language_info": {
   "codemirror_mode": {
    "name": "ipython",
    "version": 3
   },
   "file_extension": ".py",
   "mimetype": "text/x-python",
   "name": "python",
   "nbconvert_exporter": "python",
   "pygments_lexer": "ipython3",
   "version": "3.7.9"
  }
 },
 "nbformat": 4,
 "nbformat_minor": 4
}
